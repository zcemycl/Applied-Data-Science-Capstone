{
 "cells": [
  {
   "cell_type": "markdown",
   "metadata": {},
   "source": [
    "## Introduction/Business Problem"
   ]
  },
  {
   "cell_type": "markdown",
   "metadata": {},
   "source": [
    "The report aims to solve the following quesitons. Firstly, I would like to compare how similar the neigborhoods of the three cities, including Northwest part of London (NW), Downtown Toronto (M) and Manhantan New York City, in terms of their shop types. "
   ]
  },
  {
   "cell_type": "markdown",
   "metadata": {},
   "source": [
    "Secondly, based on the findings above, I would like to recommend where people should open their restaurant, and setup their office to start their own business."
   ]
  },
  {
   "cell_type": "markdown",
   "metadata": {},
   "source": [
    "This is important particulary for people who wants to open their restaurant or start their own business. The analysis of shop types around those regions can also give us some insights of what business is more dominant and promising. "
   ]
  },
  {
   "cell_type": "markdown",
   "metadata": {},
   "source": [
    "## Data"
   ]
  },
  {
   "cell_type": "markdown",
   "metadata": {},
   "source": [
    "I will use the postcode information and their neighborhoods listed in wikipedia, \n",
    "https://en.wikipedia.org/wiki/NW_postcode_area for NW part of London, https://en.wikipedia.org/wiki/List_of_postal_codes_of_Canada:_M for M of Canada, to understand the geographical relationships of those cities. Then I will make some calls from foursquare data to understand the shop types in those regions. "
   ]
  },
  {
   "cell_type": "markdown",
   "metadata": {},
   "source": [
    "By grouping different shop types in those areas, I can understand how popular a certain type of business in that regions is. This might give some insights of what the contractor should do in those regions."
   ]
  },
  {
   "cell_type": "code",
   "execution_count": null,
   "metadata": {},
   "outputs": [],
   "source": []
  }
 ],
 "metadata": {
  "kernelspec": {
   "display_name": "Python 3",
   "language": "python",
   "name": "python3"
  },
  "language_info": {
   "codemirror_mode": {
    "name": "ipython",
    "version": 3
   },
   "file_extension": ".py",
   "mimetype": "text/x-python",
   "name": "python",
   "nbconvert_exporter": "python",
   "pygments_lexer": "ipython3",
   "version": "3.6.5"
  }
 },
 "nbformat": 4,
 "nbformat_minor": 2
}
