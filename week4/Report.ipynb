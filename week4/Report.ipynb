{
 "cells": [
  {
   "cell_type": "markdown",
   "metadata": {},
   "source": [
    "## Introduction/Business Problem"
   ]
  },
  {
   "cell_type": "markdown",
   "metadata": {},
   "source": [
    "The report aims to solve the following quesitons. Firstly, I would like to compare how similar the neigborhoods of the three cities, including Northwest part of London (NW), Downtown Toronto (M) and Manhantan New York City, in terms of their shop types. "
   ]
  },
  {
   "cell_type": "markdown",
   "metadata": {},
   "source": [
    "Secondly, based on the findings above, I would like to recommend where people should open their restaurant, and setup their office to start their own business."
   ]
  },
  {
   "cell_type": "markdown",
   "metadata": {},
   "source": [
    "This is important particulary for people who wants to open their restaurant or start their own business. The analysis of shop types around those regions can also give us some insights of what business is more dominant and promising. "
   ]
  },
  {
   "cell_type": "markdown",
   "metadata": {},
   "source": [
    "## Data"
   ]
  },
  {
   "cell_type": "markdown",
   "metadata": {},
   "source": [
    "I will use the postcode information and their neighborhoods listed in wikipedia, \n",
    "https://en.wikipedia.org/wiki/NW_postcode_area for NW part of London, https://en.wikipedia.org/wiki/List_of_postal_codes_of_Canada:_M for M of Canada, to understand the geographical relationships of those cities. Then I will make some calls from foursquare data to understand the shop types in those regions. "
   ]
  },
  {
   "cell_type": "markdown",
   "metadata": {},
   "source": [
    "By grouping different shop types in those areas, I can understand how popular a certain type of business in that regions is. This might give some insights of what the contractor should do in those regions."
   ]
  },
  {
   "cell_type": "markdown",
   "metadata": {},
   "source": [
    "## Methodology"
   ]
  },
  {
   "cell_type": "markdown",
   "metadata": {},
   "source": [
    "After recording all the venues and their venue categories in the these areas, I just group by the same venue category to see how many neighborhoods have the following venue type. This can compare the three places' similarity. This might also give us the insight of which venue category is famous to the locals."
   ]
  },
  {
   "cell_type": "markdown",
   "metadata": {},
   "source": [
    "## Results\n",
    "The tables below are the results to show the popularity of venue categories in NW part of London, Manhaton New York and Downtown Toronto."
   ]
  },
  {
   "cell_type": "markdown",
   "metadata": {},
   "source": [
    "Venue categories popularity\n",
    "------\n",
    "London|New York|Toronto\n",
    "-|-|-\n",
    "<img src=\"./london_shop.jpg\" width=\"250\">|<img src=\"./newyorkshop.jpg\" width=\"250\">|<img src=\"./toronto_shop.jpg\" width=\"250\">"
   ]
  },
  {
   "cell_type": "markdown",
   "metadata": {},
   "source": [
    "## Discussion"
   ]
  },
  {
   "cell_type": "markdown",
   "metadata": {},
   "source": [
    "If consider 'Cafe' is equal to 'Coffee Shop', the most popular shop in these cities is cafe which is sensible because cafe or coffee shop is one of the 'low risk, low cost, high popularity' business. Those cities also have the following shops in the top 15 lists, such as, italian restaurant, park, pizza place, bakery, deli/bodega, etc. But their rankings are not the same in different places. If consider, cocktail bar and bar are part of pub, places with alcohol are also common for all places. "
   ]
  },
  {
   "cell_type": "markdown",
   "metadata": {},
   "source": [
    "3 cities are quite similar equally. If someone would like to set up a new small business, cafe is always the best choice. If someone wants to know what type of restaurant to set up, I would recommend Italian restaurant."
   ]
  },
  {
   "cell_type": "markdown",
   "metadata": {},
   "source": [
    "However, it would be difficult to suggest where to set up the business. It is because, although you can see there are shops in London than Toronto and New York, the following analysis has not considered the factor of district area, so it might be difficult to conclude which market (area) is more saturated. "
   ]
  },
  {
   "cell_type": "markdown",
   "metadata": {},
   "source": [
    "## Conclusion"
   ]
  },
  {
   "cell_type": "markdown",
   "metadata": {},
   "source": [
    "In summary, 3 cities are quite similar equally. If someone would like to set up a new small business, cafe is always the best choice. If someone wants to know what type of restaurant to set up, I would recommend Italian restaurant. \n",
    "I could not really suggest which region is better to set up the business. But Toronto might be a better place since the rent is better."
   ]
  },
  {
   "cell_type": "code",
   "execution_count": null,
   "metadata": {},
   "outputs": [],
   "source": []
  }
 ],
 "metadata": {
  "kernelspec": {
   "display_name": "Python 3",
   "language": "python",
   "name": "python3"
  },
  "language_info": {
   "codemirror_mode": {
    "name": "ipython",
    "version": 3
   },
   "file_extension": ".py",
   "mimetype": "text/x-python",
   "name": "python",
   "nbconvert_exporter": "python",
   "pygments_lexer": "ipython3",
   "version": "3.6.5"
  }
 },
 "nbformat": 4,
 "nbformat_minor": 2
}
